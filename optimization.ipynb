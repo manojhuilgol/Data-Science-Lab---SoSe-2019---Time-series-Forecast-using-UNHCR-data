{
 "cells": [
  {
   "cell_type": "markdown",
   "metadata": {},
   "source": [
    "# Setting up environment"
   ]
  },
  {
   "cell_type": "code",
   "execution_count": 1,
   "metadata": {},
   "outputs": [],
   "source": [
    "import pandas as pd\n",
    "import numpy as np\n",
    "import matplotlib.pylab as plt\n",
    "from statsmodels.tsa.seasonal import seasonal_decompose\n",
    "from statsmodels.tsa.tsatools import detrend\n",
    "from statsmodels.tsa.stattools import adfuller\n",
    "from statsmodels.tsa.stattools import ccf\n",
    "import statsmodels.api as sm\n",
    "from statsmodels.tsa.arima_model import ARIMA\n",
    "from pylab import rcParams\n",
    "from statsmodels.graphics.tsaplots import plot_acf, plot_pacf\n",
    "from statsmodels.tsa.stattools import adfuller\n",
    "from sklearn.preprocessing import Imputer\n",
    "import copy\n",
    "from sklearn.metrics import mean_squared_error\n",
    "from math import sqrt\n",
    "from pandas.tools.plotting import autocorrelation_plot\n",
    "import math\n",
    "from sklearn.model_selection import TimeSeriesSplit\n",
    "from sklearn.metrics import mean_squared_error\n",
    "from datetime import timedelta\n",
    "#from pyramid.arima import auto_arima\n",
    "import warnings\n",
    "warnings.filterwarnings('ignore')\n",
    "%matplotlib inline"
   ]
  },
  {
   "cell_type": "code",
   "execution_count": 5,
   "metadata": {},
   "outputs": [],
   "source": [
    "import model_and_evaluation as models"
   ]
  },
  {
   "cell_type": "markdown",
   "metadata": {},
   "source": [
    "# Evaluation Models and Optimization"
   ]
  },
  {
   "cell_type": "markdown",
   "metadata": {},
   "source": [
    "## Grid search to find optimal p, d, q for ARMA, ARIMA, SARIMA"
   ]
  },
  {
   "cell_type": "code",
   "execution_count": 6,
   "metadata": {},
   "outputs": [],
   "source": [
    "def evaluate_model(model_name, serie, order):\n",
    "    if model_name.lower() == 'sarima': \n",
    "        predictions = models.sarima_rolling_forecast(serie, order)\n",
    "        \n",
    "        \n",
    "    elif model_name.lower() == 'arima': \n",
    "        predictions = models.arima_rolling_forecast(serie, order)\n",
    "     \n",
    "        \n",
    "    elif model_name.lower() == 'arma':\n",
    "        predictions = models.arma_rolling_forecast(serie, order)\n",
    "        \n",
    "        \n",
    "    rmse = sqrt(mean_squared_error(serie[models.train_size:], predictions))\n",
    "    return rmse\n",
    "\n",
    "\n",
    "\n",
    "# evaluate combinations of p, d and q values for ARMA, ARIMA, SARIMA model\n",
    "def grid_search(model_name, country, p_values, d_values, q_values):\n",
    "    country = country.astype('float32')\n",
    "    best_score, best_cfg = float(\"inf\"), None\n",
    "    for p in p_values:\n",
    "        for d in d_values:\n",
    "            for q in q_values:\n",
    "                order = (p,d,q)\n",
    "                try:\n",
    "                    rmse = evaluate_model(model_name, country, order)\n",
    "                    if rmse < best_score:\n",
    "                        best_score, best_cfg = rmse, order\n",
    "                    print('%s %s   RMSE=%.3f' % (model_name,order,rmse))\n",
    "                except:\n",
    "                    continue\n",
    "    print('Best %s: %s RMSE=%.3f' % (model_name, best_cfg, best_score))"
   ]
  },
  {
   "cell_type": "markdown",
   "metadata": {},
   "source": [
    "### 1.1 Grid search for ARIMA model - Austria\n",
    " It can be observed that the results are more accurate for (p, d, q) of (4, 1, 2)"
   ]
  },
  {
   "cell_type": "code",
   "execution_count": 33,
   "metadata": {},
   "outputs": [
    {
     "name": "stdout",
     "output_type": "stream",
     "text": [
      "ARIMA (1, 1, 1)   RMSE=71.507\n",
      "ARIMA (1, 1, 2)   RMSE=72.542\n",
      "ARIMA (1, 1, 3)   RMSE=53.932\n",
      "ARIMA (1, 1, 4)   RMSE=70.595\n",
      "ARIMA (1, 1, 5)   RMSE=73.280\n",
      "ARIMA (2, 1, 1)   RMSE=72.590\n",
      "ARIMA (2, 1, 2)   RMSE=71.190\n",
      "ARIMA (2, 1, 3)   RMSE=73.470\n",
      "ARIMA (2, 1, 5)   RMSE=65.193\n",
      "ARIMA (3, 1, 1)   RMSE=70.425\n",
      "ARIMA (3, 1, 2)   RMSE=73.960\n",
      "ARIMA (3, 1, 4)   RMSE=66.115\n",
      "ARIMA (4, 1, 1)   RMSE=48.332\n",
      "ARIMA (4, 1, 2)   RMSE=44.457\n",
      "ARIMA (4, 1, 3)   RMSE=68.700\n",
      "ARIMA (5, 1, 3)   RMSE=78.184\n",
      "Best ARIMA: (4, 1, 2) RMSE=44.457\n"
     ]
    }
   ],
   "source": [
    "p_values = range(1, 6)\n",
    "d_values = range(1, 2)\n",
    "q_values = range(1, 6)\n",
    "warnings.filterwarnings(\"ignore\")\n",
    "grid_search('ARIMA', models.interpolated_data['Arrivals to Austria'], p_values, d_values, q_values)"
   ]
  },
  {
   "cell_type": "markdown",
   "metadata": {},
   "source": [
    "### 1.2   Grid search for ARIMA model - Mainland Greece\n",
    " It can be observed that the results are more accurate for (p, d, q) of (2, 1, 5)"
   ]
  },
  {
   "cell_type": "code",
   "execution_count": 13,
   "metadata": {},
   "outputs": [
    {
     "name": "stdout",
     "output_type": "stream",
     "text": [
      "ARIMA (1, 1, 1)   RMSE=173.132\n",
      "ARIMA (1, 1, 2)   RMSE=170.712\n",
      "ARIMA (1, 1, 3)   RMSE=165.591\n",
      "ARIMA (1, 1, 4)   RMSE=168.629\n",
      "ARIMA (1, 1, 5)   RMSE=154.887\n",
      "ARIMA (2, 1, 1)   RMSE=169.163\n",
      "ARIMA (2, 1, 2)   RMSE=175.111\n",
      "ARIMA (2, 1, 5)   RMSE=80.451\n",
      "ARIMA (3, 1, 1)   RMSE=143.383\n",
      "ARIMA (3, 1, 4)   RMSE=168.870\n",
      "ARIMA (4, 1, 1)   RMSE=127.641\n",
      "ARIMA (4, 1, 3)   RMSE=104.649\n",
      "ARIMA (5, 1, 1)   RMSE=109.082\n",
      "ARIMA (5, 1, 2)   RMSE=94.893\n",
      "Best ARIMA: (2, 1, 5) RMSE=80.451\n"
     ]
    }
   ],
   "source": [
    "p_values = range(1, 6)\n",
    "d_values = range(1, 2)\n",
    "q_values = range(1, 6)\n",
    "warnings.filterwarnings(\"ignore\")\n",
    "grid_search('ARIMA', models.interpolated_data['Departures to mainland Greece'], p_values, d_values, q_values)"
   ]
  },
  {
   "cell_type": "markdown",
   "metadata": {},
   "source": [
    "### 1.3   Grid search for ARIMA model - Hungary\n",
    " It can be observed that the results are more accurate for (p, d, q) of (4, 1, 1)"
   ]
  },
  {
   "cell_type": "code",
   "execution_count": 7,
   "metadata": {
    "scrolled": false
   },
   "outputs": [
    {
     "name": "stdout",
     "output_type": "stream",
     "text": [
      "ARIMA (2, 1, 1)   RMSE=19.088\n",
      "ARIMA (3, 1, 1)   RMSE=15.782\n",
      "ARIMA (3, 1, 2)   RMSE=16.072\n",
      "ARIMA (4, 1, 1)   RMSE=15.391\n",
      "ARIMA (4, 1, 2)   RMSE=17.657\n",
      "ARIMA (5, 1, 1)   RMSE=16.285\n",
      "ARIMA (5, 1, 3)   RMSE=34.773\n",
      "Best ARIMA: (4, 1, 1) RMSE=15.391\n"
     ]
    }
   ],
   "source": [
    "p_values = range(1, 6)\n",
    "d_values = range(1, 2)\n",
    "q_values = range(1, 6)\n",
    "warnings.filterwarnings(\"ignore\")\n",
    "grid_search('ARIMA', interpolated_data['Arrivals to Hungary'], p_values, d_values, q_values)"
   ]
  },
  {
   "cell_type": "markdown",
   "metadata": {},
   "source": [
    "### 2.1 Grid search for ARMA model - Austria\n",
    "It can be observed that the results are more accurate for (p, d, q) of (2, 0, 5)"
   ]
  },
  {
   "cell_type": "code",
   "execution_count": 58,
   "metadata": {},
   "outputs": [
    {
     "name": "stdout",
     "output_type": "stream",
     "text": [
      "ARMA (1, 0, 1)   RMSE=82.200\n",
      "ARMA (1, 0, 2)   RMSE=63.166\n",
      "ARMA (1, 0, 3)   RMSE=57.752\n",
      "ARMA (1, 0, 4)   RMSE=52.783\n",
      "ARMA (1, 0, 5)   RMSE=56.636\n",
      "ARMA (2, 0, 1)   RMSE=53.763\n",
      "ARMA (2, 0, 4)   RMSE=53.344\n",
      "ARMA (2, 0, 5)   RMSE=37.606\n",
      "ARMA (3, 0, 1)   RMSE=54.260\n",
      "ARMA (3, 0, 5)   RMSE=51.062\n",
      "ARMA (4, 0, 1)   RMSE=53.790\n",
      "ARMA (4, 0, 4)   RMSE=55.360\n",
      "ARMA (5, 0, 1)   RMSE=65.795\n",
      "ARMA (5, 0, 3)   RMSE=40.893\n",
      "Best ARMA: (2, 0, 5) RMSE=37.606\n"
     ]
    }
   ],
   "source": [
    "p_values = range(1, 6)\n",
    "d_values = range(0, 1)\n",
    "q_values = range(1, 6)\n",
    "warnings.filterwarnings(\"ignore\")\n",
    "grid_search('ARMA', models.interpolated_data['Arrivals to Austria'], p_values, d_values, q_values)"
   ]
  },
  {
   "cell_type": "markdown",
   "metadata": {},
   "source": [
    "### 2.2  Grid search for ARMA model - Mainland Greece\n",
    "It can be observed that the results are more accurate for (p, d, q) of (2, 0, 3)"
   ]
  },
  {
   "cell_type": "code",
   "execution_count": 12,
   "metadata": {},
   "outputs": [
    {
     "name": "stdout",
     "output_type": "stream",
     "text": [
      "ARMA (1, 0, 1)   RMSE=160.091\n",
      "ARMA (1, 0, 2)   RMSE=64.475\n",
      "ARMA (1, 0, 3)   RMSE=59.968\n",
      "ARMA (1, 0, 4)   RMSE=60.205\n",
      "ARMA (1, 0, 5)   RMSE=62.392\n",
      "ARMA (2, 0, 1)   RMSE=59.895\n",
      "ARMA (2, 0, 2)   RMSE=58.980\n",
      "ARMA (2, 0, 3)   RMSE=58.960\n",
      "ARMA (2, 0, 4)   RMSE=62.504\n",
      "ARMA (2, 0, 5)   RMSE=63.073\n",
      "ARMA (4, 0, 1)   RMSE=61.305\n",
      "ARMA (5, 0, 1)   RMSE=62.740\n",
      "Best ARMA: (2, 0, 3) RMSE=58.960\n"
     ]
    }
   ],
   "source": [
    "p_values = range(1, 6)\n",
    "d_values = range(0, 1)\n",
    "q_values = range(1, 6)\n",
    "warnings.filterwarnings(\"ignore\")\n",
    "grid_search('ARMA', models.interpolated_data['Departures to mainland Greece'], p_values, d_values, q_values)"
   ]
  },
  {
   "cell_type": "markdown",
   "metadata": {},
   "source": [
    "### 2.3  Grid search for ARMA model - Hungary\n",
    "It can be observed that the results are more accurate for (p, d, q) of (1, 0, 2)"
   ]
  },
  {
   "cell_type": "code",
   "execution_count": 15,
   "metadata": {},
   "outputs": [
    {
     "name": "stdout",
     "output_type": "stream",
     "text": [
      "ARMA (1, 0, 1)   RMSE=24.796\n",
      "ARMA (1, 0, 2)   RMSE=24.709\n",
      "ARMA (2, 0, 2)   RMSE=51.556\n",
      "ARMA (2, 0, 4)   RMSE=77.366\n",
      "ARMA (3, 0, 3)   RMSE=38.363\n",
      "ARMA (3, 0, 4)   RMSE=53.962\n",
      "ARMA (3, 0, 5)   RMSE=75.583\n",
      "ARMA (4, 0, 4)   RMSE=68.050\n",
      "Best ARMA: (1, 0, 2) RMSE=24.709\n"
     ]
    }
   ],
   "source": [
    "p_values = range(1, 6)\n",
    "d_values = range(0, 1)\n",
    "q_values = range(1, 6)\n",
    "warnings.filterwarnings(\"ignore\")\n",
    "grid_search('ARMA', models.interpolated_data['Arrivals to Hungary'], p_values, d_values, q_values)"
   ]
  },
  {
   "cell_type": "markdown",
   "metadata": {},
   "source": [
    "### 3.1 Grid search for SARIMA model - Austria\n",
    "It can be observed that the results are more accurate for (p, d, q) of (3, 1, 2)"
   ]
  },
  {
   "cell_type": "code",
   "execution_count": 35,
   "metadata": {},
   "outputs": [
    {
     "name": "stdout",
     "output_type": "stream",
     "text": [
      "SARIMA (1, 1, 1)   RMSE=36.679\n",
      "SARIMA (1, 1, 2)   RMSE=36.620\n",
      "SARIMA (1, 1, 3)   RMSE=36.592\n",
      "SARIMA (1, 1, 4)   RMSE=37.036\n",
      "SARIMA (1, 1, 5)   RMSE=36.873\n",
      "SARIMA (2, 1, 1)   RMSE=36.628\n",
      "SARIMA (2, 1, 2)   RMSE=36.625\n",
      "SARIMA (2, 1, 3)   RMSE=36.840\n",
      "SARIMA (2, 1, 4)   RMSE=39.107\n",
      "SARIMA (2, 1, 5)   RMSE=37.821\n",
      "SARIMA (3, 1, 1)   RMSE=36.624\n",
      "SARIMA (3, 1, 2)   RMSE=36.568\n",
      "SARIMA (3, 1, 3)   RMSE=41.957\n",
      "SARIMA (3, 1, 4)   RMSE=36.972\n",
      "SARIMA (4, 1, 1)   RMSE=37.598\n",
      "SARIMA (4, 1, 2)   RMSE=37.773\n",
      "SARIMA (4, 1, 3)   RMSE=42.271\n",
      "SARIMA (5, 1, 1)   RMSE=37.756\n",
      "SARIMA (5, 1, 2)   RMSE=37.684\n",
      "Best SARIMA: (3, 1, 2) RMSE=36.568\n"
     ]
    }
   ],
   "source": [
    "p_values = range(1, 6)\n",
    "d_values = range(1, 2)\n",
    "q_values = range(1, 6)\n",
    "warnings.filterwarnings(\"ignore\")\n",
    "grid_search('SARIMA', models.interpolated_data['Arrivals to Austria'], p_values, d_values, q_values)"
   ]
  },
  {
   "cell_type": "markdown",
   "metadata": {},
   "source": [
    "### 3.2 Grid search for SARIMA model - Mainland Greece\n",
    "It can be observed that the results are more accurate for (p, d, q) of (5, 1, 1)"
   ]
  },
  {
   "cell_type": "code",
   "execution_count": 14,
   "metadata": {},
   "outputs": [
    {
     "name": "stdout",
     "output_type": "stream",
     "text": [
      "SARIMA (1, 1, 1)   RMSE=27.797\n",
      "SARIMA (1, 1, 2)   RMSE=27.513\n",
      "SARIMA (1, 1, 3)   RMSE=27.439\n",
      "SARIMA (1, 1, 4)   RMSE=29.201\n",
      "SARIMA (1, 1, 5)   RMSE=43.309\n",
      "SARIMA (2, 1, 4)   RMSE=28.436\n",
      "SARIMA (2, 1, 5)   RMSE=46.487\n",
      "SARIMA (3, 1, 1)   RMSE=27.716\n",
      "SARIMA (3, 1, 4)   RMSE=78.280\n",
      "SARIMA (3, 1, 5)   RMSE=51.571\n",
      "SARIMA (4, 1, 1)   RMSE=27.306\n",
      "SARIMA (4, 1, 4)   RMSE=46.002\n",
      "SARIMA (4, 1, 5)   RMSE=45.269\n",
      "SARIMA (5, 1, 1)   RMSE=27.176\n",
      "SARIMA (5, 1, 4)   RMSE=108.986\n",
      "SARIMA (5, 1, 5)   RMSE=100.722\n",
      "Best SARIMA: (5, 1, 1) RMSE=27.176\n"
     ]
    }
   ],
   "source": [
    "p_values = range(1, 6)\n",
    "d_values = range(1, 2)\n",
    "q_values = range(1, 6)\n",
    "warnings.filterwarnings(\"ignore\")\n",
    "grid_search('SARIMA', models.interpolated_data['Departures to mainland Greece'], p_values, d_values, q_values)"
   ]
  },
  {
   "cell_type": "markdown",
   "metadata": {},
   "source": [
    "### 3.3 Grid search for SARIMA model - Hungary\n",
    "It can be observed that the results are more accurate for (p, d, q) of (3, 1, 1)"
   ]
  },
  {
   "cell_type": "code",
   "execution_count": 17,
   "metadata": {},
   "outputs": [
    {
     "name": "stdout",
     "output_type": "stream",
     "text": [
      "SARIMA (1, 1, 1)   RMSE=13.333\n",
      "SARIMA (1, 1, 2)   RMSE=35.973\n",
      "SARIMA (1, 1, 3)   RMSE=17.430\n",
      "SARIMA (1, 1, 4)   RMSE=84.095\n",
      "SARIMA (1, 1, 5)   RMSE=147.503\n",
      "SARIMA (2, 1, 2)   RMSE=13.140\n",
      "SARIMA (2, 1, 3)   RMSE=13.534\n",
      "SARIMA (2, 1, 5)   RMSE=195.970\n",
      "SARIMA (3, 1, 1)   RMSE=13.006\n",
      "SARIMA (3, 1, 2)   RMSE=15.992\n",
      "SARIMA (4, 1, 1)   RMSE=13.054\n",
      "SARIMA (4, 1, 3)   RMSE=23.219\n",
      "SARIMA (4, 1, 4)   RMSE=88.009\n",
      "SARIMA (5, 1, 1)   RMSE=13.049\n",
      "SARIMA (5, 1, 4)   RMSE=77.087\n",
      "Best SARIMA: (3, 1, 1) RMSE=13.006\n"
     ]
    }
   ],
   "source": [
    "p_values = range(1, 6)\n",
    "d_values = range(1, 2)\n",
    "q_values = range(1, 6)\n",
    "warnings.filterwarnings(\"ignore\")\n",
    "grid_search('SARIMA', models.interpolated_data['Arrivals to Hungary'], p_values, d_values, q_values)"
   ]
  },
  {
   "cell_type": "markdown",
   "metadata": {},
   "source": [
    "## Nested Cross validation for AR model\n",
    "The AR model which had an RMSE value of 47.91 previously is improved to RMSE of 23.06 for the <b>train_size</b> of 317"
   ]
  },
  {
   "cell_type": "code",
   "execution_count": 79,
   "metadata": {},
   "outputs": [
    {
     "name": "stdout",
     "output_type": "stream",
     "text": [
      "split = 8\n",
      "RMSE: 844.3745212652724    Train_split_Index = 44\n",
      "RMSE: 1030.2211268126443    Train_split_Index = 83\n",
      "RMSE: 1547.8808780217817    Train_split_Index = 122\n",
      "RMSE: 106.50808411489379    Train_split_Index = 161\n",
      "RMSE: 96.69612095183794    Train_split_Index = 200\n",
      "RMSE: 65.01291210106305    Train_split_Index = 239\n",
      "RMSE: 23.062452018564333    Train_split_Index = 278\n",
      "RMSE: 55.95230251968453    Train_split_Index = 317\n",
      "Best split index for the model is: 278 which has RMSE value of: 23.062452018564333\n"
     ]
    }
   ],
   "source": [
    "def nested_cross_validation(country, split):\n",
    "    \n",
    "    tscv = TimeSeriesSplit(n_splits = split)\n",
    "    result = []\n",
    "    rmse = []\n",
    "    \n",
    "\n",
    "    for train_index, test_index in tscv.split(country):\n",
    "        cv_train, cv_test = country.iloc[train_index], country.iloc[test_index]\n",
    "        model = ARIMA(cv_train, order=(3,1,0))\n",
    "        model_fit = model.fit(disp=-1)\n",
    "        predictions = model_fit.forecast(steps=4)[0]\n",
    "        true_values = cv_test.values[:4]\n",
    "        result.append([sqrt(mean_squared_error(true_values, predictions)), train_index[-1], test_index[0]])\n",
    "        print('RMSE: %s    Train_split_Index = %s' % (sqrt(mean_squared_error(true_values, predictions)), train_index[-1]))\n",
    "            \n",
    "    return result\n",
    "\n",
    "\n",
    "split = 8\n",
    "print ('split = %d' % (split))\n",
    "result = nested_cross_validation(models.interpolated_data['Arrivals to Austria'], split)\n",
    "print ('Best split index for the model is: %s which has RMSE value of: %s' % ((min(result)[1]), (min(result)[0])))"
   ]
  },
  {
   "cell_type": "markdown",
   "metadata": {},
   "source": [
    "## Nested cross validation for Rolling forecast models - ARMA, ARIMA, SARIMA"
   ]
  },
  {
   "cell_type": "code",
   "execution_count": 20,
   "metadata": {},
   "outputs": [],
   "source": [
    "def nested_cross_validation_diff(country, split, order, model_name):\n",
    "    tscv = TimeSeriesSplit(n_splits = split)\n",
    "    result = []\n",
    "    rmse = []\n",
    "    \n",
    "\n",
    "    for train_index, test_index in tscv.split(country):\n",
    "        cv_train, cv_test = country.iloc[train_index], country.iloc[test_index]\n",
    "        predictions = list()\n",
    "        history = [x for x in cv_train]\n",
    "        test = [x for x in cv_test]\n",
    "        \n",
    "        try:\n",
    "\n",
    "            for t in range(len(cv_test)):\n",
    "                \n",
    "                if (model_name.lower() == 'arma' or model_name.lower() == 'arima'):\n",
    "                    model = ARIMA(history, order=order)\n",
    "                    model_fit = model.fit(disp=-1)\n",
    "                    yhat_f = model_fit.forecast()[0][0]\n",
    "                    \n",
    "                elif (model_name.lower() == 'sarima'):\n",
    "                    model = sm.tsa.statespace.SARIMAX(cv_train, order=order, seasonal_order=(1,0,0,1))\n",
    "                    model_fit = model.fit(disp=-1)\n",
    "                    yhat_f = model_fit.forecast()[0]\n",
    "               \n",
    "                predictions.append(yhat_f)\n",
    "                history.append(test[t])\n",
    "\n",
    "\n",
    "            true_values = cv_test.values\n",
    "            result.append([sqrt(mean_squared_error(true_values, predictions)), train_index[-1], test_index[0]])\n",
    "            print('RMSE: %s    Train_split_Index = %s' % (sqrt(mean_squared_error(true_values, predictions)), train_index[-1]))\n",
    "        \n",
    "        \n",
    "        except Exception as e:\n",
    "            continue\n",
    "        \n",
    "    return result"
   ]
  },
  {
   "cell_type": "markdown",
   "metadata": {},
   "source": [
    "### 1.1  Nested Cross validation for ARIMA model - Austria\n",
    "\n",
    "The RMSE value is improved from 44.4 to 43.71 for a <b>train_size</b> of 312."
   ]
  },
  {
   "cell_type": "code",
   "execution_count": 31,
   "metadata": {
    "scrolled": false
   },
   "outputs": [
    {
     "name": "stdout",
     "output_type": "stream",
     "text": [
      "split = 7\n",
      "RMSE: 691.6646079684668    Train_split_Index = 92\n",
      "RMSE: 355.5627085708323    Train_split_Index = 136\n",
      "RMSE: 66.27237824689578    Train_split_Index = 180\n",
      "RMSE: 62.792605178880905    Train_split_Index = 224\n",
      "RMSE: 104.30147333226428    Train_split_Index = 268\n",
      "RMSE: 43.7123910897369    Train_split_Index = 312\n",
      "Best split index for the model is: 312 which has RMSE value of: 43.7123910897369\n"
     ]
    }
   ],
   "source": [
    "split, order = 7, (4,1,2)\n",
    "print ('split = %d' % (split))\n",
    "result = nested_cross_validation_diff(models.interpolated_data['Arrivals to Austria'], split, order, 'ARIMA')\n",
    "print ('Best split index for the model is: %s which has RMSE value of: %s' % ((min(result)[1]), (min(result)[0])))"
   ]
  },
  {
   "cell_type": "markdown",
   "metadata": {},
   "source": [
    "### 1.2  Nested Cross validation for ARIMA model - Mainland Greece\n",
    "\n",
    "The RMSE value is improved from 80.45 to 74.32 for a <b>train_size</b> of 312."
   ]
  },
  {
   "cell_type": "code",
   "execution_count": 21,
   "metadata": {},
   "outputs": [
    {
     "name": "stdout",
     "output_type": "stream",
     "text": [
      "split = 7\n",
      "RMSE: 1116.5098838618667    Train_split_Index = 136\n",
      "RMSE: 351.06496288227936    Train_split_Index = 180\n",
      "RMSE: 367.8531386758308    Train_split_Index = 224\n",
      "RMSE: 102.5475202060516    Train_split_Index = 268\n",
      "RMSE: 74.3235598800628    Train_split_Index = 312\n",
      "Best split index for the model is: 312 which has RMSE value of: 74.3235598800628\n"
     ]
    }
   ],
   "source": [
    "split, order = 7, (2,1,5)\n",
    "print ('split = %d' % (split))\n",
    "result = nested_cross_validation_diff(models.interpolated_data['Departures to mainland Greece'], split, order, 'ARIMA')\n",
    "print ('Best split index for the model is: %s which has RMSE value of: %s' % ((min(result)[1]), (min(result)[0])))"
   ]
  },
  {
   "cell_type": "markdown",
   "metadata": {},
   "source": [
    "### 1.3  Nested Cross validation for ARIMA model - Hungary\n",
    "The RMSE value is improved from 15.39 to 11.61 for a <b>train_size</b> of 331. "
   ]
  },
  {
   "cell_type": "code",
   "execution_count": 22,
   "metadata": {},
   "outputs": [
    {
     "name": "stdout",
     "output_type": "stream",
     "text": [
      "split = 13\n",
      "RMSE: 67.26755234500821    Train_split_Index = 31\n",
      "RMSE: 41.84052697672583    Train_split_Index = 56\n",
      "RMSE: 48.018679762742764    Train_split_Index = 81\n",
      "RMSE: 37.12413888854919    Train_split_Index = 106\n",
      "RMSE: 82.31844228633489    Train_split_Index = 131\n",
      "RMSE: 61.16829402390484    Train_split_Index = 156\n",
      "RMSE: 81.77578729259433    Train_split_Index = 181\n",
      "RMSE: 61.61502975623767    Train_split_Index = 206\n",
      "RMSE: 60.3961112894517    Train_split_Index = 231\n",
      "RMSE: 82.37103227690329    Train_split_Index = 256\n",
      "RMSE: 17.01237322819493    Train_split_Index = 281\n",
      "RMSE: 16.9866091137835    Train_split_Index = 306\n",
      "RMSE: 11.6148562643349    Train_split_Index = 331\n",
      "Best split index for the model is: 331 which has RMSE value of: 11.6148562643349\n"
     ]
    }
   ],
   "source": [
    "split, order = 13, (4,1,1)\n",
    "print ('split = %d' % (split))\n",
    "result = nested_cross_validation_diff(models.interpolated_data['Arrivals to Hungary'], split, order, 'ARIMA')\n",
    "print ('Best split index for the model is: %s which has RMSE value of: %s' % ((min(result)[1]), (min(result)[0])))"
   ]
  },
  {
   "cell_type": "markdown",
   "metadata": {},
   "source": [
    "### 2.1 Nested Cross validation for ARMA model - Austria\n",
    "The RMSE value is not improved in this case."
   ]
  },
  {
   "cell_type": "code",
   "execution_count": 26,
   "metadata": {},
   "outputs": [
    {
     "name": "stdout",
     "output_type": "stream",
     "text": [
      "split = 5\n",
      "RMSE: 39.43043981097089    Train_split_Index = 297\n",
      "Best split index for the model is: 297 which has RMSE value of: 39.43043981097089\n"
     ]
    }
   ],
   "source": [
    "split, order = 5, (2,0,5)\n",
    "print ('split = %d' % (split))\n",
    "result = nested_cross_validation_diff(models.interpolated_data['Arrivals to Austria'], split, order, 'ARMA')\n",
    "print ('Best split index for the model is: %s which has RMSE value of: %s' % ((min(result)[1]), (min(result)[0])))"
   ]
  },
  {
   "cell_type": "markdown",
   "metadata": {},
   "source": [
    "### 2.2 Nested Cross validation for ARMA model - Mainland Greece\n",
    "The RMSE value is improved from 58.9 to 49.59 for a <b>train_size</b> of 329"
   ]
  },
  {
   "cell_type": "code",
   "execution_count": 25,
   "metadata": {},
   "outputs": [
    {
     "name": "stdout",
     "output_type": "stream",
     "text": [
      "split = 12\n",
      "RMSE: 1584.340967895833    Train_split_Index = 86\n",
      "RMSE: 1576.7400550158613    Train_split_Index = 113\n",
      "RMSE: 1103.937536096411    Train_split_Index = 140\n",
      "RMSE: 920.9148956389354    Train_split_Index = 167\n",
      "RMSE: 81.54055336318402    Train_split_Index = 248\n",
      "RMSE: 64.86791103350323    Train_split_Index = 275\n",
      "RMSE: 63.382694095041536    Train_split_Index = 302\n",
      "RMSE: 49.593224873885156    Train_split_Index = 329\n",
      "Best split index for the model is: 329 which has RMSE value of: 49.593224873885156\n"
     ]
    }
   ],
   "source": [
    "split, order = 12, (2,0,3)\n",
    "print ('split = %d' % (split))\n",
    "result = nested_cross_validation_diff(models.interpolated_data['Departures to mainland Greece'], split, order, 'ARMA')\n",
    "print ('Best split index for the model is: %s which has RMSE value of: %s' % ((min(result)[1]), (min(result)[0])))"
   ]
  },
  {
   "cell_type": "markdown",
   "metadata": {},
   "source": [
    "### 2.3 Nested Cross validation for ARMA model - Hungary\n",
    "The RMSE value is improved from 24.7 to 22.59 for a <b>train_size</b> of 321"
   ]
  },
  {
   "cell_type": "code",
   "execution_count": 27,
   "metadata": {},
   "outputs": [
    {
     "name": "stdout",
     "output_type": "stream",
     "text": [
      "split = 9\n",
      "RMSE: 116.61771147403299    Train_split_Index = 41\n",
      "RMSE: 74.99028667778097    Train_split_Index = 76\n",
      "RMSE: 63.88807376317829    Train_split_Index = 111\n",
      "RMSE: 76.83306029373658    Train_split_Index = 146\n",
      "RMSE: 82.59883803180453    Train_split_Index = 181\n",
      "RMSE: 58.900167917380614    Train_split_Index = 216\n",
      "RMSE: 75.35471748975108    Train_split_Index = 251\n",
      "RMSE: 26.76710934411395    Train_split_Index = 286\n",
      "RMSE: 22.597997184273567    Train_split_Index = 321\n",
      "Best split index for the model is: 321 which has RMSE value of: 22.597997184273567\n"
     ]
    }
   ],
   "source": [
    "# Didn't change\n",
    "split, order = 9, (1,0,2)\n",
    "print ('split = %d' % (split))\n",
    "result = nested_cross_validation_diff(models.interpolated_data['Arrivals to Hungary'], split, order, 'ARMA')\n",
    "print ('Best split index for the model is: %s which has RMSE value of: %s' % ((min(result)[1]), (min(result)[0])))"
   ]
  },
  {
   "cell_type": "markdown",
   "metadata": {},
   "source": [
    "### 3.1 Nested Cross validation for SARIMA model - Austria\n",
    "The RMSE value is improved from 36.5 to 33.53 for a <b>train_size</b> of 292."
   ]
  },
  {
   "cell_type": "code",
   "execution_count": 28,
   "metadata": {},
   "outputs": [
    {
     "name": "stdout",
     "output_type": "stream",
     "text": [
      "split = 10\n",
      "RMSE: 3286.933640627711    Train_split_Index = 36\n",
      "RMSE: 2109.3032590359344    Train_split_Index = 68\n",
      "RMSE: 1135.1525875910902    Train_split_Index = 100\n",
      "RMSE: 2193.601298258403    Train_split_Index = 132\n",
      "RMSE: 57.894561093840665    Train_split_Index = 164\n",
      "RMSE: 47.56327685871016    Train_split_Index = 196\n",
      "RMSE: 47.52961848239436    Train_split_Index = 228\n",
      "RMSE: 90.15323732427362    Train_split_Index = 260\n",
      "RMSE: 33.53081667950504    Train_split_Index = 292\n",
      "RMSE: 54.3797204974297    Train_split_Index = 324\n",
      "Best split index for the model is: 292 which has RMSE value of: 33.53081667950504\n"
     ]
    }
   ],
   "source": [
    "split, order = 10, (3,1,2)\n",
    "print ('split = %d' % (split))\n",
    "result = nested_cross_validation_diff(models.interpolated_data['Arrivals to Austria'], split, order, 'SARIMA')\n",
    "print ('Best split index for the model is: %s which has RMSE value of: %s' % ((min(result)[1]), (min(result)[0])))"
   ]
  },
  {
   "cell_type": "markdown",
   "metadata": {},
   "source": [
    "### 3.2 Nested Cross validation for SARIMA model - Mainland Greece\n",
    "The RMSE value is not improved in this case."
   ]
  },
  {
   "cell_type": "code",
   "execution_count": 29,
   "metadata": {},
   "outputs": [
    {
     "name": "stdout",
     "output_type": "stream",
     "text": [
      "split = 7\n",
      "RMSE: 2904.6870159358923    Train_split_Index = 48\n",
      "RMSE: 1429.4825957274195    Train_split_Index = 92\n",
      "RMSE: 1230.4211568436767    Train_split_Index = 136\n",
      "RMSE: 460.02290722564527    Train_split_Index = 180\n",
      "RMSE: 33.04539349142292    Train_split_Index = 224\n",
      "RMSE: 31.475733374568485    Train_split_Index = 268\n",
      "RMSE: 31.004681954914478    Train_split_Index = 312\n",
      "Best split index for the model is: 312 which has RMSE value of: 31.004681954914478\n"
     ]
    }
   ],
   "source": [
    "split, order = 7, (5,1,1)\n",
    "print ('split = %d' % (split))\n",
    "result = nested_cross_validation_diff(models.interpolated_data['Departures to mainland Greece'], split, order, 'SARIMA')\n",
    "print ('Best split index for the model is: %s which has RMSE value of: %s' % ((min(result)[1]), (min(result)[0])))"
   ]
  },
  {
   "cell_type": "markdown",
   "metadata": {},
   "source": [
    "### 3.3 Nested Cross validation for SARIMA model - Hungary\n",
    "The RMSE value is improved from 13.06 to 8.47 for a train_size of 329"
   ]
  },
  {
   "cell_type": "code",
   "execution_count": 30,
   "metadata": {},
   "outputs": [
    {
     "name": "stdout",
     "output_type": "stream",
     "text": [
      "split = 12\n",
      "RMSE: 19.35256583175748    Train_split_Index = 32\n",
      "RMSE: 11.29035129706494    Train_split_Index = 59\n",
      "RMSE: 27.30304593913658    Train_split_Index = 86\n",
      "RMSE: 29.234525610571527    Train_split_Index = 113\n",
      "RMSE: 78.31272024249697    Train_split_Index = 140\n",
      "RMSE: 99.3875453198442    Train_split_Index = 167\n",
      "RMSE: 59.4969648150255    Train_split_Index = 194\n",
      "RMSE: 47.41849815235792    Train_split_Index = 221\n",
      "RMSE: 69.32307720325844    Train_split_Index = 248\n",
      "RMSE: 87.20975393172547    Train_split_Index = 275\n",
      "RMSE: 17.77149402074804    Train_split_Index = 302\n",
      "RMSE: 8.476625593994815    Train_split_Index = 329\n",
      "Best split index for the model is: 329 which has RMSE value of: 8.476625593994815\n"
     ]
    }
   ],
   "source": [
    "split, order = 12, (3,1,1)\n",
    "print ('split = %d' % (split))\n",
    "result = nested_cross_validation_diff(models.interpolated_data['Arrivals to Hungary'], split, order, 'SARIMA')\n",
    "print ('Best split index for the model is: %s which has RMSE value of: %s' % ((min(result)[1]), (min(result)[0])))"
   ]
  },
  {
   "cell_type": "markdown",
   "metadata": {},
   "source": [
    "# Out of Sample Forecasts for next 20 days using SARIMA model"
   ]
  },
  {
   "cell_type": "code",
   "execution_count": 16,
   "metadata": {},
   "outputs": [
    {
     "name": "stdout",
     "output_type": "stream",
     "text": [
      "Out of Sample Forcasts for the upcoming 20 days\n"
     ]
    },
    {
     "data": {
      "text/html": [
       "<div>\n",
       "<style scoped>\n",
       "    .dataframe tbody tr th:only-of-type {\n",
       "        vertical-align: middle;\n",
       "    }\n",
       "\n",
       "    .dataframe tbody tr th {\n",
       "        vertical-align: top;\n",
       "    }\n",
       "\n",
       "    .dataframe thead th {\n",
       "        text-align: right;\n",
       "    }\n",
       "</style>\n",
       "<table border=\"1\" class=\"dataframe\">\n",
       "  <thead>\n",
       "    <tr style=\"text-align: right;\">\n",
       "      <th></th>\n",
       "      <th>Arrivals to Austria</th>\n",
       "    </tr>\n",
       "    <tr>\n",
       "      <th>Date</th>\n",
       "      <th></th>\n",
       "    </tr>\n",
       "  </thead>\n",
       "  <tbody>\n",
       "    <tr>\n",
       "      <th>2016-09-22</th>\n",
       "      <td>113</td>\n",
       "    </tr>\n",
       "    <tr>\n",
       "      <th>2016-09-23</th>\n",
       "      <td>113</td>\n",
       "    </tr>\n",
       "    <tr>\n",
       "      <th>2016-09-24</th>\n",
       "      <td>113</td>\n",
       "    </tr>\n",
       "    <tr>\n",
       "      <th>2016-09-25</th>\n",
       "      <td>113</td>\n",
       "    </tr>\n",
       "    <tr>\n",
       "      <th>2016-09-26</th>\n",
       "      <td>113</td>\n",
       "    </tr>\n",
       "    <tr>\n",
       "      <th>2016-09-27</th>\n",
       "      <td>112</td>\n",
       "    </tr>\n",
       "    <tr>\n",
       "      <th>2016-09-28</th>\n",
       "      <td>112</td>\n",
       "    </tr>\n",
       "    <tr>\n",
       "      <th>2016-09-29</th>\n",
       "      <td>111</td>\n",
       "    </tr>\n",
       "    <tr>\n",
       "      <th>2016-09-30</th>\n",
       "      <td>110</td>\n",
       "    </tr>\n",
       "    <tr>\n",
       "      <th>2016-10-01</th>\n",
       "      <td>112</td>\n",
       "    </tr>\n",
       "    <tr>\n",
       "      <th>2016-10-02</th>\n",
       "      <td>111</td>\n",
       "    </tr>\n",
       "    <tr>\n",
       "      <th>2016-10-03</th>\n",
       "      <td>110</td>\n",
       "    </tr>\n",
       "    <tr>\n",
       "      <th>2016-10-04</th>\n",
       "      <td>110</td>\n",
       "    </tr>\n",
       "    <tr>\n",
       "      <th>2016-10-05</th>\n",
       "      <td>105</td>\n",
       "    </tr>\n",
       "    <tr>\n",
       "      <th>2016-10-06</th>\n",
       "      <td>109</td>\n",
       "    </tr>\n",
       "    <tr>\n",
       "      <th>2016-10-07</th>\n",
       "      <td>112</td>\n",
       "    </tr>\n",
       "    <tr>\n",
       "      <th>2016-10-08</th>\n",
       "      <td>108</td>\n",
       "    </tr>\n",
       "    <tr>\n",
       "      <th>2016-10-09</th>\n",
       "      <td>110</td>\n",
       "    </tr>\n",
       "    <tr>\n",
       "      <th>2016-10-10</th>\n",
       "      <td>103</td>\n",
       "    </tr>\n",
       "  </tbody>\n",
       "</table>\n",
       "</div>"
      ],
      "text/plain": [
       "            Arrivals to Austria\n",
       "Date                           \n",
       "2016-09-22                  113\n",
       "2016-09-23                  113\n",
       "2016-09-24                  113\n",
       "2016-09-25                  113\n",
       "2016-09-26                  113\n",
       "2016-09-27                  112\n",
       "2016-09-28                  112\n",
       "2016-09-29                  111\n",
       "2016-09-30                  110\n",
       "2016-10-01                  112\n",
       "2016-10-02                  111\n",
       "2016-10-03                  110\n",
       "2016-10-04                  110\n",
       "2016-10-05                  105\n",
       "2016-10-06                  109\n",
       "2016-10-07                  112\n",
       "2016-10-08                  108\n",
       "2016-10-09                  110\n",
       "2016-10-10                  103"
      ]
     },
     "execution_count": 16,
     "metadata": {},
     "output_type": "execute_result"
    }
   ],
   "source": [
    "def sarima_out_of_sample_rolling_forecast(country, order, train_size, no_of_days):\n",
    "    \n",
    "    train, test = country[0:train_size], country[train_size:]\n",
    "    history = [country for country in train]\n",
    "    predictions_f = list()\n",
    "    ind = list()\n",
    "    timeindex = models.interpolated_data['Arrivals to Austria'].index\n",
    "    \n",
    "    for t in range(no_of_days):\n",
    "        last_date = models.interpolated_data['Arrivals to Austria'].iloc[[-1]].index\n",
    "        last_date = last_date + timedelta(days=t)\n",
    "        timeindex = timeindex.union(last_date)\n",
    "        model = sm.tsa.statespace.SARIMAX(history, order=order, seasonal_order=(1,0,0,1))\n",
    "        model_fit = model.fit(disp=0)\n",
    "        output = model_fit.forecast()\n",
    "        yhat = output[0]\n",
    "        yhat = math.ceil(yhat)\n",
    "        predictions_f.append(yhat)\n",
    "        obs = yhat\n",
    "        last_date = last_date + timedelta(days = t)\n",
    "        ind.append(last_date)\n",
    "        history.append(obs)\n",
    "\n",
    "    pred = pd.DataFrame(index = timeindex, columns=['Arrivals to Austria'])\n",
    "    \n",
    "    # Assigning out-sampling forecasted values\n",
    "    for i in range(1, no_of_days+1):\n",
    "        pred['Arrivals to Austria'].iloc[-i] = predictions_f[i-1]\n",
    "        \n",
    "    # Assigning original previous values    \n",
    "    for i in range(0, len(interpolated_data)):\n",
    "        pred['Arrivals to Austria'].iloc[i] = models.interpolated_data['Arrivals to Austria'].iloc[i]\n",
    "\n",
    "    return (pred)\n",
    "\n",
    "\n",
    "\n",
    "\n",
    "\n",
    "no_of_days = 20      # the number of days in the future to forecast\n",
    "order = (5,1,2)\n",
    "train_size = len(models.interpolated_data)\n",
    "print('Out of Sample Forcasts for the upcoming %d days'%no_of_days)\n",
    "pred = sarima_out_of_sample_rolling_forecast(models.interpolated_data['Arrivals to Austria'], order, train_size, no_of_days)\n",
    "pred[-no_of_days+1:]"
   ]
  },
  {
   "cell_type": "markdown",
   "metadata": {},
   "source": [
    "## Plot of the count of refugees from August to October.\n",
    "\n",
    "#### The red line indicates the original values whereas the blue line indicates the future predicted values."
   ]
  },
  {
   "cell_type": "code",
   "execution_count": 17,
   "metadata": {},
   "outputs": [
    {
     "data": {
      "text/plain": [
       "<matplotlib.legend.Legend at 0x1fbf46c02e8>"
      ]
     },
     "execution_count": 17,
     "metadata": {},
     "output_type": "execute_result"
    },
    {
     "data": {
      "image/png": "[encoded data removed]",
      "text/plain": [
       "<Figure size 792x648 with 1 Axes>"
      ]
     },
     "metadata": {
      "needs_background": "light"
     },
     "output_type": "display_data"
    }
   ],
   "source": [
    "rcParams['figure.figsize'] = 11, 9\n",
    "ax = pred[-no_of_days:].plot()\n",
    "models.interpolated_data['Arrivals to Austria'][-60:].plot(ax=ax)\n",
    "plt.title('The plot of (Arrivals to Austria) for the last 3 months data', fontsize = 18)\n",
    "plt.ylabel('The number of refugees for Austria', fontsize = 12)\n",
    "plt.xlabel('Months and year', fontsize = 12)\n",
    "plt.legend(['Original values','Predicted values'])"
   ]
  }
 ],
 "metadata": {
  "kernelspec": {
   "display_name": "Python 3",
   "language": "python",
   "name": "python3"
  },
  "language_info": {
   "codemirror_mode": {
    "name": "ipython",
    "version": 3
   },
   "file_extension": ".py",
   "mimetype": "text/x-python",
   "name": "python",
   "nbconvert_exporter": "python",
   "pygments_lexer": "ipython3",
   "version": "3.7.0"
  }
 },
 "nbformat": 4,
 "nbformat_minor": 2
}
